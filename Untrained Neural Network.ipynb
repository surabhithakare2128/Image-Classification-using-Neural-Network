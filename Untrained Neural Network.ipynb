{
 "cells": [
  {
   "cell_type": "markdown",
   "metadata": {},
   "source": [
    "# Neural networks with PyTorch"
   ]
  },
  {
   "cell_type": "code",
   "execution_count": 21,
   "metadata": {},
   "outputs": [],
   "source": [
    "import matplotlib.pyplot as plt\n",
    "import numpy as np\n",
    "from torch import nn, optim\n",
    "from torch.autograd import Variable\n",
    "\n",
    "\n",
    "def test_network(net, trainloader):\n",
    "\n",
    "    criterion = nn.MSELoss()\n",
    "    optimizer = optim.Adam(net.parameters(), lr=0.001)\n",
    "\n",
    "    dataiter = iter(trainloader)\n",
    "    images, labels = dataiter.next()\n",
    "\n",
    "    # Create Variables for the inputs and targets\n",
    "    inputs = Variable(images)\n",
    "    targets = Variable(images)\n",
    "\n",
    "    # Clear the gradients from all Variables\n",
    "    optimizer.zero_grad()\n",
    "\n",
    "    # Forward pass, then backward pass, then update weights\n",
    "    output = net.forward(inputs)\n",
    "    loss = criterion(output, targets)\n",
    "    loss.backward()\n",
    "    optimizer.step()\n",
    "\n",
    "    return True\n",
    "\n",
    "\n",
    "def imshow(image, ax=None, title=None, normalize=True):\n",
    "    \"\"\"Imshow for Tensor.\"\"\"\n",
    "    if ax is None:\n",
    "        fig, ax = plt.subplots()\n",
    "    image = image.numpy().transpose((1, 2, 0))\n",
    "\n",
    "    if normalize:\n",
    "        mean = np.array([0.485, 0.456, 0.406])\n",
    "        std = np.array([0.229, 0.224, 0.225])\n",
    "        image = std * image + mean\n",
    "        image = np.clip(image, 0, 1)\n",
    "\n",
    "    ax.imshow(image)\n",
    "    ax.spines['top'].set_visible(False)\n",
    "    ax.spines['right'].set_visible(False)\n",
    "    ax.spines['left'].set_visible(False)\n",
    "    ax.spines['bottom'].set_visible(False)\n",
    "    ax.tick_params(axis='both', length=0)\n",
    "    ax.set_xticklabels('')\n",
    "    ax.set_yticklabels('')\n",
    "\n",
    "    return ax\n",
    "\n",
    "\n",
    "def view_recon(img, recon):\n",
    "    ''' Function for displaying an image (as a PyTorch Tensor) and its\n",
    "        reconstruction also a PyTorch Tensor\n",
    "    '''\n",
    "\n",
    "    fig, axes = plt.subplots(ncols=2, sharex=True, sharey=True)\n",
    "    axes[0].imshow(img.numpy().squeeze())\n",
    "    axes[1].imshow(recon.data.numpy().squeeze())\n",
    "    for ax in axes:\n",
    "        ax.axis('off')\n",
    "        ax.set_adjustable('box-forced')\n",
    "\n",
    "def view_classify(img, ps, version=\"MNIST\"):\n",
    "    ''' Function for viewing an image and it's predicted classes.\n",
    "    '''\n",
    "    ps = ps.data.numpy().squeeze()\n",
    "\n",
    "    fig, (ax1, ax2) = plt.subplots(figsize=(6,9), ncols=2)\n",
    "    ax1.imshow(img.resize_(1, 28, 28).numpy().squeeze())\n",
    "    ax1.axis('off')\n",
    "    ax2.barh(np.arange(10), ps)\n",
    "    ax2.set_aspect(0.1)\n",
    "    ax2.set_yticks(np.arange(10))\n",
    "    if version == \"MNIST\":\n",
    "        ax2.set_yticklabels(np.arange(10))\n",
    "    elif version == \"Fashion\":\n",
    "        ax2.set_yticklabels(['T-shirt/top',\n",
    "                            'Trouser',\n",
    "                            'Pullover',\n",
    "                            'Dress',\n",
    "                            'Coat',\n",
    "                            'Sandal',\n",
    "                            'Shirt',\n",
    "                            'Sneaker',\n",
    "                            'Bag',\n",
    "                            'Ankle Boot'], size='small');\n",
    "    ax2.set_title('Class Probability')\n",
    "    ax2.set_xlim(0, 1.1)\n",
    "\n",
    "    plt.tight_layout()"
   ]
  },
  {
   "cell_type": "code",
   "execution_count": 19,
   "metadata": {},
   "outputs": [],
   "source": [
    "# Importing necessary packages\n",
    "\n",
    "%matplotlib inline\n",
    "%config InlineBackend.figure_format = 'retina'\n",
    "\n",
    "import numpy as np\n",
    "import torch\n",
    "\n",
    "import helper\n",
    "\n",
    "import matplotlib.pyplot as plt"
   ]
  },
  {
   "cell_type": "markdown",
   "metadata": {},
   "source": [
    "\n",
    "Now we're going to build a larger network that can solve a (formerly) difficult problem, identifying text in an image. Here I used the MNIST dataset which consists of greyscale handwritten digits. Each image is 28x28 pixels, you can see a sample below\n",
    "\n",
    "Goal is to build a neural network that can take one of these images and predict the digit in the image.\n",
    "\n",
    "Imported dataset which is provided through the `torchvision` package."
   ]
  },
  {
   "cell_type": "code",
   "execution_count": 3,
   "metadata": {},
   "outputs": [],
   "source": [
    "from torchvision import datasets, transforms\n",
    "\n",
    "# Defined a transform to normalize the data\n",
    "transform = transforms.Compose([transforms.ToTensor(),\n",
    "                              transforms.Normalize((0.5,), (0.5,)),\n",
    "                              ])\n",
    "\n",
    "# Downloaded and loaded the training data\n",
    "trainset = datasets.MNIST('~/.pytorch/MNIST_data/', download=True, train=True, transform=transform)\n",
    "trainloader = torch.utils.data.DataLoader(trainset, batch_size=64, shuffle=True)\n"
   ]
  },
  {
   "cell_type": "code",
   "execution_count": 4,
   "metadata": {},
   "outputs": [
    {
     "name": "stdout",
     "output_type": "stream",
     "text": [
      "<class 'torch.Tensor'>\n",
      "torch.Size([64, 1, 28, 28])\n",
      "torch.Size([64])\n"
     ]
    }
   ],
   "source": [
    "dataiter = iter(trainloader)\n",
    "images, labels = dataiter.next()\n",
    "print(type(images))\n",
    "print(images.shape)\n",
    "print(labels.shape)"
   ]
  },
  {
   "cell_type": "code",
   "execution_count": 5,
   "metadata": {},
   "outputs": [
    {
     "data": {
      "image/png": "[encoded data removed]",
      "text/plain": [
       "<Figure size 432x288 with 1 Axes>"
      ]
     },
     "metadata": {
      "image/png": {
       "height": 250,
       "width": 253
      }
     },
     "output_type": "display_data"
    }
   ],
   "source": [
    "plt.imshow(images[1].numpy().squeeze(), cmap='Greys_r');"
   ]
  },
  {
   "cell_type": "code",
   "execution_count": 6,
   "metadata": {},
   "outputs": [
    {
     "data": {
      "text/plain": [
       "torch.Size([64, 10])"
      ]
     },
     "execution_count": 6,
     "metadata": {},
     "output_type": "execute_result"
    }
   ],
   "source": [
    "def activation(x):\n",
    "    return 1/(1+torch.exp(-x))\n",
    "\n",
    "# Flatten the input images\n",
    "inputs = images.view(images.shape[0], -1)\n",
    "\n",
    "# Create parameters\n",
    "w1 = torch.randn(784, 256)\n",
    "#784 inputs and 256 hidden units\n",
    "b1 = torch.randn(256)\n",
    "\n",
    "w2 = torch.randn(256, 10)\n",
    "b2 = torch.randn(10)\n",
    "\n",
    "h = activation(torch.mm(inputs, w1) + b1)\n",
    "\n",
    "out = torch.mm(h, w2) + b2\n",
    "\n",
    "out.shape"
   ]
  },
  {
   "cell_type": "code",
   "execution_count": 7,
   "metadata": {},
   "outputs": [
    {
     "name": "stdout",
     "output_type": "stream",
     "text": [
      "tensor([[-1.5486e+01, -8.0676e+00,  1.4506e+01,  4.9789e+00, -1.8788e+00,\n",
      "          4.9462e+00,  2.7894e+00, -5.2677e-01, -1.3995e-01,  2.2458e+01],\n",
      "        [-1.1930e+01, -1.1400e+00,  7.0504e+00,  8.1962e+00, -2.9110e+00,\n",
      "          3.9464e+00,  1.3244e+01,  1.6190e+00,  5.0979e+00,  8.2174e+00],\n",
      "        [-2.1003e+01, -6.3166e+00,  1.0044e+01,  1.1834e+01,  6.9733e+00,\n",
      "          8.1757e+00,  5.1517e+00,  4.8387e+00,  9.3745e+00,  1.1599e+01],\n",
      "        [-6.9156e+00, -9.4525e+00,  1.0395e+01,  1.0386e+01,  4.0004e+00,\n",
      "          1.3224e+00,  1.3717e+01, -1.9694e+00, -1.4830e+00,  1.8023e+01],\n",
      "        [-1.3304e+01,  1.8193e+00,  1.1966e+01, -3.0153e+00,  6.8148e+00,\n",
      "          5.6082e+00,  1.1953e+01,  2.0968e+00,  2.0487e+00,  2.7153e+01],\n",
      "        [-6.5203e+00,  6.6376e+00,  7.2060e+00,  9.8016e+00,  2.2520e+00,\n",
      "          1.3880e+01,  9.3102e+00,  3.0145e+00,  4.7866e-01,  1.0900e+01],\n",
      "        [-1.5000e+01, -8.0401e+00,  4.5126e+00,  2.1829e+00,  9.2243e+00,\n",
      "          1.6191e+00,  1.2477e+01,  8.9855e+00,  3.7992e+00,  1.2198e+01],\n",
      "        [-8.5598e+00, -1.6330e+01,  2.4819e+00, -2.2198e+00,  1.2974e+00,\n",
      "          1.3666e+00,  1.4211e+01,  1.8478e+00,  3.4488e+00,  1.4148e+01],\n",
      "        [-1.6868e+01, -3.9034e+00, -3.0649e+00,  5.0514e-01,  2.6541e+00,\n",
      "         -2.9547e+00,  8.3370e+00, -3.3784e-01,  9.2325e+00,  1.2811e+01],\n",
      "        [-2.4804e+01, -1.3017e+00,  9.7514e-01, -2.8319e+00,  6.9511e+00,\n",
      "          1.2157e+00,  1.0913e+01,  6.3873e+00,  1.4475e+01,  1.4282e+01],\n",
      "        [-1.6606e+01,  7.0377e+00,  1.6755e+00, -1.6096e+00,  6.7095e+00,\n",
      "         -1.8111e+00,  1.3263e+01,  1.0510e+01, -2.7374e+00,  2.3526e+01],\n",
      "        [-1.1267e+01,  7.9010e-01,  1.7034e+01,  1.2532e+00,  9.7679e+00,\n",
      "          9.2246e+00,  2.0255e+01,  1.2417e+01,  3.4911e+00,  1.2963e+01],\n",
      "        [-2.0655e+01, -6.0236e+00,  7.4819e+00,  1.5366e+00,  9.8847e+00,\n",
      "          5.1063e+00,  8.9507e+00,  2.9073e+00,  2.4447e+00,  2.1390e+00],\n",
      "        [-2.0540e+01, -7.7745e+00,  5.9639e+00,  1.4399e+00, -8.3627e-01,\n",
      "          2.6134e+00,  1.1902e+01,  4.7866e+00, -3.3336e-01,  1.5790e+01],\n",
      "        [-1.9873e+01, -5.8133e+00,  9.7525e+00,  4.5201e+00, -5.2415e+00,\n",
      "          5.6954e+00,  5.2353e+00, -1.2636e+01, -1.6218e+00,  2.4829e+00],\n",
      "        [-2.2399e+01, -8.5802e+00,  4.2296e+00,  1.0050e+01,  5.8605e+00,\n",
      "          4.5336e+00,  1.7849e+01,  8.1255e-01,  1.3499e+00,  9.6055e+00],\n",
      "        [-1.5004e+01, -8.1125e+00,  7.5545e+00,  1.6794e+01,  8.1849e+00,\n",
      "          3.8952e+00,  3.6202e+00, -4.4672e+00,  2.7192e+00,  6.7533e+00],\n",
      "        [-1.7059e+01, -4.8245e+00,  1.2680e+01,  4.0296e+00,  6.2425e+00,\n",
      "         -3.1277e+00,  1.2702e+01,  6.5707e+00,  1.9622e+00,  1.2603e+01],\n",
      "        [-1.5910e+01, -4.6053e-01,  1.3012e+01,  2.2371e+00,  1.1450e+00,\n",
      "          8.2427e+00,  9.4433e+00,  7.3704e+00,  1.1165e+01,  1.0468e+01],\n",
      "        [-1.5326e+01, -8.9384e-02,  1.7507e+01,  9.9183e-01,  9.4931e+00,\n",
      "          1.0929e+01,  1.1574e+00,  7.2736e+00,  1.9906e+00,  7.0468e+00],\n",
      "        [-8.5226e+00, -1.5023e+01,  2.6469e+00,  4.7904e+00,  6.2027e+00,\n",
      "          7.5015e+00,  1.5120e+01,  3.4092e+00,  6.8601e+00,  1.8135e+01],\n",
      "        [-7.4443e+00, -1.0195e+01,  1.2832e+01,  7.0230e+00,  1.0576e+01,\n",
      "         -3.7565e-01,  1.0172e+01, -4.0065e+00, -7.6475e+00,  7.0531e+00],\n",
      "        [-9.7202e+00, -1.1435e+01,  1.5206e+01,  1.4955e+00,  7.9271e+00,\n",
      "          7.1771e-01,  1.2449e+01, -4.9897e+00, -6.2603e+00,  2.2038e+01],\n",
      "        [-1.1098e+01, -1.2830e+01,  5.0137e+00,  1.2560e+01, -3.4144e+00,\n",
      "          1.6486e+01,  1.0538e+01, -1.2534e+00,  8.3270e+00,  3.3520e+00],\n",
      "        [-1.6347e+01, -1.0871e+01, -7.9926e+00,  2.9158e+00,  1.1856e+01,\n",
      "          2.3321e+00,  8.2166e+00, -3.4506e+00, -6.9232e+00,  1.0202e+01],\n",
      "        [-1.2834e+01, -6.7388e+00,  9.1549e+00,  1.6406e+01,  3.7743e+00,\n",
      "          5.9004e+00,  5.6745e+00,  1.6508e+00, -5.7727e+00,  9.1607e+00],\n",
      "        [-1.6392e+01, -6.9088e+00,  5.3985e+00,  1.2901e-01,  5.7514e+00,\n",
      "         -6.9711e-01,  4.2891e+00,  2.6646e+00,  1.0846e+01,  1.8832e+01],\n",
      "        [-1.1777e+01, -1.4654e+01,  7.6080e+00,  9.4296e+00,  8.6206e+00,\n",
      "          6.9324e+00,  5.4868e+00,  4.7869e-01,  3.6029e+00,  1.3353e+01],\n",
      "        [-1.2207e+01, -9.7098e+00,  1.3084e+01, -1.4015e+00,  2.2127e+00,\n",
      "         -8.5576e-01,  1.3591e+01, -3.1830e+00,  6.8680e+00,  1.3472e+01],\n",
      "        [-1.9695e+01, -1.2663e+01,  7.1753e+00,  1.2582e+00,  4.4913e+00,\n",
      "          4.3538e+00,  1.2341e+01,  3.4264e+00, -2.7989e+00,  1.0680e+01],\n",
      "        [-8.6280e+00, -7.1252e+00,  6.8169e+00,  9.9678e+00, -2.3897e+00,\n",
      "          7.1440e+00,  1.6998e+01, -4.0792e+00,  8.9981e+00,  1.2771e+01],\n",
      "        [-1.2254e+01,  1.7643e-01,  2.9740e+00,  8.1652e+00, -2.0727e+00,\n",
      "         -5.4211e+00,  4.8668e-01, -2.5910e+00,  3.8375e+00,  1.5441e+01],\n",
      "        [-1.9657e+01, -1.6807e+01,  1.2593e+00,  9.9983e+00, -1.5199e+00,\n",
      "          7.2180e+00,  2.2044e+01, -3.7762e-03, -3.2392e+00,  1.1444e+01],\n",
      "        [-1.6673e+01,  3.9866e+00,  1.1270e+01,  7.7660e+00,  1.1371e+01,\n",
      "          6.1781e+00,  3.9500e+00,  1.2513e+00,  6.0427e+00,  8.9839e+00],\n",
      "        [-5.8772e+00,  1.7664e+00,  9.9760e+00,  5.3299e+00,  9.3216e+00,\n",
      "          1.3909e+01,  1.1759e+01, -3.0154e+00,  9.9592e+00,  9.7736e+00],\n",
      "        [-1.3426e+01, -1.1364e+01,  1.6823e+01,  1.6763e+00,  4.0600e+00,\n",
      "          5.9325e+00,  2.9166e+01,  6.0990e+00,  8.8960e+00,  9.6215e+00],\n",
      "        [-1.4707e+01, -3.3254e+00,  7.7265e+00,  1.2284e+01, -4.6552e+00,\n",
      "          9.5241e+00,  5.1240e+00,  4.6567e+00,  6.3218e+00,  1.1788e+01],\n",
      "        [-1.0413e+01, -7.6734e+00,  1.2562e+01,  5.8918e+00, -8.5438e-01,\n",
      "         -5.9158e+00,  7.0145e+00,  1.0956e+00,  1.8154e+00,  2.0836e+01],\n",
      "        [-1.0801e+01, -1.4035e+01,  6.5032e+00,  8.3965e-01,  4.3201e+00,\n",
      "          1.5097e+01,  7.0778e+00,  4.3224e+00,  1.1775e+01,  9.7149e+00],\n",
      "        [-6.1445e+00, -1.1130e+01,  1.6515e+01,  4.3525e+00,  5.7123e+00,\n",
      "          7.5396e+00,  3.7313e+00, -5.1470e+00, -1.0676e+00,  2.1526e+01],\n",
      "        [-1.3586e+01, -7.4792e+00,  4.7586e+00, -1.4175e+00,  7.1332e+00,\n",
      "         -4.9110e+00,  9.8902e+00,  2.6126e+00, -6.1978e+00,  1.4064e+01],\n",
      "        [-1.6756e+01, -1.1143e+01,  7.8733e+00,  3.9227e-01,  4.3788e+00,\n",
      "          3.0787e+00,  1.1301e+01, -1.9353e+00,  7.0031e+00,  9.7338e+00],\n",
      "        [-1.7573e+01, -4.2655e+00,  4.4777e-01,  1.0606e+01, -6.6656e+00,\n",
      "         -9.8874e-01,  5.6013e+00, -4.1066e+00, -2.2768e-01,  1.5832e+01],\n",
      "        [-1.2974e+01, -6.4504e+00,  7.9559e+00,  6.0933e+00,  1.1193e+00,\n",
      "          5.0147e+00,  3.4695e+00,  4.2801e-01,  3.2083e+00,  8.8838e+00],\n",
      "        [-2.0941e+01, -5.5737e+00,  1.2920e+01,  1.6478e+00,  4.4373e+00,\n",
      "          5.5104e+00,  9.5145e+00,  2.7005e-01,  4.3582e+00,  1.1223e+01],\n",
      "        [-9.2979e+00, -5.7693e+00,  8.2797e+00,  4.0606e+00,  4.0690e+00,\n",
      "         -5.7360e+00,  1.1258e+01,  2.2423e+00,  5.5852e+00,  2.1077e+01],\n",
      "        [-2.0826e+01, -7.9803e+00,  4.5078e-01,  3.1048e+00,  9.8613e+00,\n",
      "          6.3148e+00,  1.3748e+01,  8.3757e+00,  2.1779e+00,  2.2870e+00],\n",
      "        [-2.2100e+01, -5.5659e+00,  1.0631e+01, -2.2512e+00,  6.7420e+00,\n",
      "          1.0244e+01,  5.1293e+00,  6.7033e-01,  8.3228e+00,  4.5975e+00],\n",
      "        [-1.8652e+01, -2.1294e+00,  1.0455e+01, -4.2721e-01,  9.3205e+00,\n",
      "          1.1590e+00,  1.3128e+01, -2.4810e+00, -6.6308e+00,  1.3270e+01],\n",
      "        [-1.7272e+01, -7.1912e+00, -2.0064e-01,  8.7005e+00,  3.8824e+00,\n",
      "          5.3367e+00,  1.2979e+01,  4.3298e+00, -4.3894e+00,  1.1968e+01],\n",
      "        [-1.6388e+01, -8.0096e+00,  1.0217e+01,  7.2447e+00,  3.8345e+00,\n",
      "         -1.4722e-02,  1.4074e+01,  6.3540e-01,  6.9327e+00,  5.9639e+00],\n",
      "        [-9.1445e+00, -1.5692e+00,  1.4758e+01,  3.4277e+00,  8.9616e+00,\n",
      "          3.3520e+00,  8.6616e+00,  4.0822e+00,  5.5146e-01,  1.1370e+01],\n",
      "        [-1.2859e+01, -4.6366e+00,  2.5047e+00,  6.5029e+00,  3.6028e+00,\n",
      "          3.3021e+00,  4.2304e+00,  3.2460e+00,  2.0572e+00,  1.7570e+01],\n",
      "        [-1.3427e+01, -7.7286e-01,  9.9107e+00,  8.1758e+00,  1.9218e+01,\n",
      "          1.2597e+01,  1.7148e+01,  1.1380e+01,  1.7888e-01,  1.5787e+01],\n",
      "        [-8.9951e+00, -9.6427e+00,  7.3165e+00,  6.1407e-03, -1.9746e+00,\n",
      "          1.1959e+01,  8.5541e+00,  6.9972e+00,  6.0744e+00,  1.1634e+01],\n",
      "        [-1.7324e+01,  1.4334e+00,  1.0638e+01, -1.8894e+00,  5.2026e+00,\n",
      "          5.4042e-01,  6.1258e+00,  7.3876e+00, -6.5870e+00,  1.5113e+01],\n",
      "        [-1.6968e+01, -7.4865e+00,  8.6414e+00, -8.4696e+00,  5.3416e+00,\n",
      "          4.1190e+00,  2.0220e+01,  9.1635e-01,  6.9929e+00,  5.5143e+00],\n",
      "        [-6.4643e+00, -4.6527e+00,  4.8057e+00,  4.2186e+00, -3.8093e+00,\n",
      "          5.3035e+00,  1.1828e+01,  2.5733e-01,  1.8225e+00,  1.2048e+01],\n",
      "        [-1.1793e+01, -5.5696e+00,  1.5540e+01, -3.1823e-02,  1.1894e+01,\n",
      "         -1.8394e+00,  4.8506e+00,  6.7580e-01,  6.4160e+00,  1.0555e+01],\n",
      "        [-1.7165e+01,  1.9762e+00, -8.1659e-01,  4.3183e+00,  1.0475e+01,\n",
      "          5.5434e+00,  3.1687e+00,  4.5316e+00, -9.5880e-01,  1.1233e+01],\n",
      "        [-1.8503e+01, -6.4900e+00,  3.2899e+00,  1.2034e+01,  7.4436e+00,\n",
      "          2.5520e+00,  2.3253e+01, -4.5673e-01,  3.0305e+00,  1.0622e+01],\n",
      "        [-1.4761e+01, -7.0282e+00,  1.0304e+01,  1.0671e+01, -4.9770e+00,\n",
      "          3.8223e+00,  1.4670e+01, -7.0369e-01,  7.1108e+00,  7.0995e+00],\n",
      "        [-1.5981e+01, -8.5744e+00,  1.0722e+01,  8.5143e+00,  1.1209e+00,\n",
      "         -2.6702e+00,  1.1725e+01, -3.7124e+00, -1.2731e+00,  1.6162e+01],\n",
      "        [-1.1962e+01, -9.0407e+00,  5.4957e+00, -9.1367e-01,  8.6973e+00,\n",
      "          2.8757e+00,  1.4693e+01, -1.2841e+00,  5.5208e+00,  1.1709e+01]])\n"
     ]
    }
   ],
   "source": [
    "print(out)"
   ]
  },
  {
   "cell_type": "code",
   "execution_count": 8,
   "metadata": {},
   "outputs": [
    {
     "name": "stdout",
     "output_type": "stream",
     "text": [
      "torch.Size([64, 10])\n",
      "tensor([1.0000, 1.0000, 1.0000, 1.0000, 1.0000, 1.0000, 1.0000, 1.0000, 1.0000,\n",
      "        1.0000, 1.0000, 1.0000, 1.0000, 1.0000, 1.0000, 1.0000, 1.0000, 1.0000,\n",
      "        1.0000, 1.0000, 1.0000, 1.0000, 1.0000, 1.0000, 1.0000, 1.0000, 1.0000,\n",
      "        1.0000, 1.0000, 1.0000, 1.0000, 1.0000, 1.0000, 1.0000, 1.0000, 1.0000,\n",
      "        1.0000, 1.0000, 1.0000, 1.0000, 1.0000, 1.0000, 1.0000, 1.0000, 1.0000,\n",
      "        1.0000, 1.0000, 1.0000, 1.0000, 1.0000, 1.0000, 1.0000, 1.0000, 1.0000,\n",
      "        1.0000, 1.0000, 1.0000, 1.0000, 1.0000, 1.0000, 1.0000, 1.0000, 1.0000,\n",
      "        1.0000])\n"
     ]
    }
   ],
   "source": [
    "def softmax(x):\n",
    "    ##Implemented the softmax function here\n",
    "    return torch.exp(x)/torch.sum(torch.exp(x), dim=1).view(-1, 1)\n",
    "\n",
    "# Here, out is the output of the network in the previous excercise with shape (64,10)\n",
    "probabilities = softmax(out)\n",
    "\n",
    "\n",
    "print(probabilities.shape)\n",
    "#sum to 1\n",
    "print(probabilities.sum(dim=1))"
   ]
  },
  {
   "cell_type": "markdown",
   "metadata": {},
   "source": [
    "## Building networks with PyTorch\n",
    "\n",
    "PyTorch provides a module `nn` that makes building networks much simpler. Here I built the same one as above with 784 inputs, 256 hidden units, 10 output units and a softmax output."
   ]
  },
  {
   "cell_type": "code",
   "execution_count": 9,
   "metadata": {},
   "outputs": [],
   "source": [
    "from torch import nn"
   ]
  },
  {
   "cell_type": "code",
   "execution_count": 10,
   "metadata": {},
   "outputs": [],
   "source": [
    "class Network(nn.Module):\n",
    "    def __init__(self):\n",
    "        super().__init__()\n",
    "        \n",
    "        # Inputs to hidden layer linear transformation\n",
    "        self.hidden = nn.Linear(784, 256)\n",
    "        # Output layer, 10 units - one for each digit\n",
    "        self.output = nn.Linear(256, 10)\n",
    "        \n",
    "        # Define sigmoid activation and softmax output \n",
    "        self.sigmoid = nn.Sigmoid()\n",
    "        self.softmax = nn.Softmax(dim=1)\n",
    "        \n",
    "    def forward(self, x):\n",
    "        # Pass the input tensor through each of our operations\n",
    "        x = self.hidden(x)\n",
    "        x = self.sigmoid(x)\n",
    "        x = self.output(x)\n",
    "        x = self.softmax(x)\n",
    "        \n",
    "        return x"
   ]
  },
  {
   "cell_type": "code",
   "execution_count": 11,
   "metadata": {},
   "outputs": [
    {
     "data": {
      "text/plain": [
       "Network(\n",
       "  (hidden): Linear(in_features=784, out_features=256, bias=True)\n",
       "  (output): Linear(in_features=256, out_features=10, bias=True)\n",
       "  (sigmoid): Sigmoid()\n",
       "  (softmax): Softmax()\n",
       ")"
      ]
     },
     "execution_count": 11,
     "metadata": {},
     "output_type": "execute_result"
    }
   ],
   "source": [
    "#text representation of created network\n",
    "model = Network()\n",
    "model"
   ]
  },
  {
   "cell_type": "markdown",
   "metadata": {},
   "source": [
    "Defined the network somewhat more concisely and clearly using the `torch.nn.functional` module."
   ]
  },
  {
   "cell_type": "code",
   "execution_count": 12,
   "metadata": {},
   "outputs": [
    {
     "data": {
      "text/plain": [
       "Network(\n",
       "  (hidden): Linear(in_features=784, out_features=256, bias=True)\n",
       "  (output): Linear(in_features=256, out_features=10, bias=True)\n",
       ")"
      ]
     },
     "execution_count": 12,
     "metadata": {},
     "output_type": "execute_result"
    }
   ],
   "source": [
    "import torch.nn.functional as F\n",
    "\n",
    "class Network(nn.Module):\n",
    "    def __init__(self):\n",
    "        super().__init__()\n",
    "        # Inputs to hidden layer linear transformation\n",
    "        self.hidden = nn.Linear(784, 256)\n",
    "        # Output layer, 10 units - one for each digit\n",
    "        self.output = nn.Linear(256, 10)\n",
    "        \n",
    "    def forward(self, x):\n",
    "        # Hidden layer with sigmoid activation\n",
    "        x = F.sigmoid(self.hidden(x))\n",
    "        # Output layer with softmax activation\n",
    "        x = F.softmax(self.output(x), dim=1)\n",
    "        \n",
    "        return x\n",
    "    \n",
    "model = Network()\n",
    "model"
   ]
  },
  {
   "cell_type": "code",
   "execution_count": 13,
   "metadata": {
    "scrolled": true
   },
   "outputs": [
    {
     "data": {
      "text/plain": [
       "Network(\n",
       "  (fc1): Linear(in_features=784, out_features=128, bias=True)\n",
       "  (fc2): Linear(in_features=128, out_features=64, bias=True)\n",
       "  (fc3): Linear(in_features=64, out_features=10, bias=True)\n",
       ")"
      ]
     },
     "execution_count": 13,
     "metadata": {},
     "output_type": "execute_result"
    }
   ],
   "source": [
    "class Network(nn.Module):\n",
    "    def __init__(self):\n",
    "        super().__init__()\n",
    "        # Inputs to hidden layer linear transformation\n",
    "        self.fc1 = nn.Linear(784, 128)\n",
    "        self.fc2 = nn.Linear(128, 64)\n",
    "        # Output layer, 10 units - one for each digit\n",
    "        self.fc3 = nn.Linear(64, 10)\n",
    "        \n",
    "    def forward(self, x):\n",
    "        # Hidden layer with sigmoid activation\n",
    "        x = F.relu(self.fc1(x))\n",
    "        x = F.relu(self.fc2(x))\n",
    "        # Output layer with softmax activation\n",
    "        x = F.softmax(self.fc3(x), dim=1)\n",
    "        \n",
    "        return x\n",
    "    \n",
    "model = Network()\n",
    "model"
   ]
  },
  {
   "cell_type": "markdown",
   "metadata": {},
   "source": [
    "### Initializing weights and biases\n",
    "\n",
    "The weights and such are automatically initialized, but it's possible to customize how they are initialized. The weights and biases are tensors attached to the defined layer, you can get them with `model.fc1.weight` for instance."
   ]
  },
  {
   "cell_type": "code",
   "execution_count": 14,
   "metadata": {},
   "outputs": [
    {
     "name": "stdout",
     "output_type": "stream",
     "text": [
      "Parameter containing:\n",
      "tensor([[-0.0007, -0.0230, -0.0043,  ...,  0.0154, -0.0063, -0.0027],\n",
      "        [-0.0014, -0.0310, -0.0271,  ...,  0.0015, -0.0051,  0.0081],\n",
      "        [-0.0273,  0.0003, -0.0231,  ..., -0.0167,  0.0111,  0.0003],\n",
      "        ...,\n",
      "        [-0.0103, -0.0161,  0.0298,  ...,  0.0275,  0.0241, -0.0345],\n",
      "        [ 0.0236,  0.0286,  0.0276,  ..., -0.0317,  0.0193,  0.0056],\n",
      "        [ 0.0348,  0.0140, -0.0261,  ...,  0.0204, -0.0170,  0.0075]],\n",
      "       requires_grad=True)\n",
      "Parameter containing:\n",
      "tensor([-1.9806e-02,  9.1899e-03,  6.8317e-04, -4.7218e-03, -3.0696e-02,\n",
      "         1.4301e-03, -2.4158e-02, -3.3062e-02,  1.2308e-02, -1.5913e-02,\n",
      "        -1.2986e-02, -3.2790e-02, -5.7118e-03,  3.3622e-03, -2.5726e-02,\n",
      "        -1.5705e-02, -2.4558e-02,  2.6179e-02, -2.2720e-02,  1.3845e-02,\n",
      "         1.4443e-02,  1.7644e-02, -3.3938e-02, -2.4610e-02,  1.9872e-02,\n",
      "        -1.6334e-02,  2.2869e-02, -2.6886e-02, -2.5287e-02,  2.7901e-02,\n",
      "         2.8827e-02,  1.6726e-02, -2.9057e-02,  3.5054e-02, -3.0953e-02,\n",
      "         1.4668e-02,  9.2713e-03, -2.7248e-02, -2.7821e-02, -3.0986e-03,\n",
      "        -3.1143e-02, -3.3128e-02,  9.5992e-03, -2.1541e-02,  2.6621e-02,\n",
      "         3.2060e-02, -1.0578e-02, -2.1514e-02,  1.4290e-02, -8.0070e-03,\n",
      "        -2.4790e-02, -3.7313e-03, -8.5596e-05,  1.5173e-03, -5.8758e-03,\n",
      "        -4.8675e-03, -5.3795e-03, -2.9065e-02, -3.4176e-02,  3.4058e-03,\n",
      "        -2.4520e-02, -1.0692e-02, -2.2955e-02, -7.8303e-04, -2.7481e-02,\n",
      "        -2.3218e-02, -1.8148e-02, -3.3107e-02,  1.3913e-02,  4.0155e-05,\n",
      "         2.7394e-03, -5.9593e-03, -6.5796e-03,  2.8478e-02, -1.5590e-02,\n",
      "        -1.7797e-02, -2.4920e-02,  1.8767e-02,  1.9593e-02,  1.2723e-02,\n",
      "         1.2300e-02,  1.9745e-02,  8.0153e-03,  5.3505e-03,  3.7203e-03,\n",
      "         5.9925e-03,  1.9326e-02, -2.2319e-02, -1.7629e-02, -3.0549e-03,\n",
      "        -1.0952e-02, -2.1053e-02, -2.7180e-02, -2.9089e-02, -1.2586e-02,\n",
      "         2.5859e-02, -2.5601e-03, -1.6124e-02, -1.8575e-02,  3.3694e-02,\n",
      "        -2.5362e-02, -3.0287e-02, -1.8389e-03,  1.0294e-02,  2.8847e-02,\n",
      "         1.2666e-02, -2.0034e-03, -1.1107e-02,  2.9769e-02, -1.1975e-02,\n",
      "        -2.4371e-02, -2.4344e-03,  4.9363e-04,  2.9096e-02,  1.9667e-02,\n",
      "        -3.9774e-03,  2.6186e-02, -3.2363e-02,  2.3021e-02,  1.4379e-02,\n",
      "        -1.3044e-02, -2.2734e-02,  3.0774e-02,  1.6178e-02, -1.8546e-02,\n",
      "        -2.7676e-02,  1.2292e-03,  3.0198e-02], requires_grad=True)\n"
     ]
    }
   ],
   "source": [
    "print(model.fc1.weight)\n",
    "print(model.fc1.bias)"
   ]
  },
  {
   "cell_type": "markdown",
   "metadata": {},
   "source": [
    "For custom initialization, we want to modify these tensors in place. These are actually autograd *Variables*, so we need to get back the actual tensors with `model.fc1.weight.data`. Once we have the tensors, we can fill them with zeros (for biases) or random normal values."
   ]
  },
  {
   "cell_type": "code",
   "execution_count": 15,
   "metadata": {},
   "outputs": [
    {
     "data": {
      "text/plain": [
       "tensor([0., 0., 0., 0., 0., 0., 0., 0., 0., 0., 0., 0., 0., 0., 0., 0., 0., 0., 0., 0., 0., 0., 0., 0.,\n",
       "        0., 0., 0., 0., 0., 0., 0., 0., 0., 0., 0., 0., 0., 0., 0., 0., 0., 0., 0., 0., 0., 0., 0., 0.,\n",
       "        0., 0., 0., 0., 0., 0., 0., 0., 0., 0., 0., 0., 0., 0., 0., 0., 0., 0., 0., 0., 0., 0., 0., 0.,\n",
       "        0., 0., 0., 0., 0., 0., 0., 0., 0., 0., 0., 0., 0., 0., 0., 0., 0., 0., 0., 0., 0., 0., 0., 0.,\n",
       "        0., 0., 0., 0., 0., 0., 0., 0., 0., 0., 0., 0., 0., 0., 0., 0., 0., 0., 0., 0., 0., 0., 0., 0.,\n",
       "        0., 0., 0., 0., 0., 0., 0., 0.])"
      ]
     },
     "execution_count": 15,
     "metadata": {},
     "output_type": "execute_result"
    }
   ],
   "source": [
    "# Set biases to all zeros\n",
    "model.fc1.bias.data.fill_(0)"
   ]
  },
  {
   "cell_type": "code",
   "execution_count": 16,
   "metadata": {},
   "outputs": [
    {
     "data": {
      "text/plain": [
       "tensor([[ 0.0118,  0.0177, -0.0153,  ...,  0.0053, -0.0068,  0.0004],\n",
       "        [ 0.0067,  0.0125,  0.0096,  ..., -0.0148, -0.0003,  0.0174],\n",
       "        [ 0.0016, -0.0027,  0.0180,  ...,  0.0072,  0.0109,  0.0183],\n",
       "        ...,\n",
       "        [ 0.0031,  0.0052,  0.0070,  ..., -0.0225,  0.0183,  0.0065],\n",
       "        [ 0.0019,  0.0036, -0.0137,  ...,  0.0079,  0.0170, -0.0006],\n",
       "        [-0.0014, -0.0023, -0.0029,  ..., -0.0202, -0.0104, -0.0022]])"
      ]
     },
     "execution_count": 16,
     "metadata": {},
     "output_type": "execute_result"
    }
   ],
   "source": [
    "# sample from random normal with standard dev = 0.01\n",
    "model.fc1.weight.data.normal_(std=0.01)"
   ]
  },
  {
   "cell_type": "markdown",
   "metadata": {},
   "source": [
    "### Forward pass\n",
    "\n",
    "Now that we have a network, let's see what happens when we pass in an image."
   ]
  },
  {
   "cell_type": "code",
   "execution_count": 22,
   "metadata": {},
   "outputs": [
    {
     "data": {
      "image/png": "[encoded data removed]",
      "text/plain": [
       "<Figure size 432x648 with 2 Axes>"
      ]
     },
     "metadata": {
      "image/png": {
       "height": 224,
       "width": 423
      }
     },
     "output_type": "display_data"
    }
   ],
   "source": [
    "# Grab some data \n",
    "dataiter = iter(trainloader)\n",
    "images, labels = dataiter.next()\n",
    "\n",
    "# Resize images into a 1D vector, new shape is (batch size, color channels, image pixels) \n",
    "images.resize_(64, 1, 784)\n",
    "# or images.resize_(images.shape[0], 1, 784) to automatically get batch size\n",
    "\n",
    "# Forward pass through the network\n",
    "img_idx = 0\n",
    "ps = model.forward(images[img_idx,:])\n",
    "\n",
    "img = images[img_idx]\n",
    "view_classify(img.view(1, 28, 28), ps)"
   ]
  },
  {
   "cell_type": "markdown",
   "metadata": {},
   "source": [
    "As you can see above, our network has basically no idea what this digit is. It's because we haven't trained it yet, all the weights are random!\n",
    "\n",
    "### Using `nn.Sequential`\n",
    "\n",
    "PyTorch provides a convenient way to build networks like this where a tensor is passed sequentially through operations, `nn.Sequential` ([documentation](https://pytorch.org/docs/master/nn.html#torch.nn.Sequential)). Using this to build the equivalent network:"
   ]
  },
  {
   "cell_type": "code",
   "execution_count": 25,
   "metadata": {},
   "outputs": [
    {
     "name": "stdout",
     "output_type": "stream",
     "text": [
      "Sequential(\n",
      "  (0): Linear(in_features=784, out_features=128, bias=True)\n",
      "  (1): ReLU()\n",
      "  (2): Linear(in_features=128, out_features=64, bias=True)\n",
      "  (3): ReLU()\n",
      "  (4): Linear(in_features=64, out_features=10, bias=True)\n",
      "  (5): Softmax()\n",
      ")\n"
     ]
    },
    {
     "data": {
      "image/png": "[encoded data removed]",
      "text/plain": [
       "<Figure size 432x648 with 2 Axes>"
      ]
     },
     "metadata": {
      "image/png": {
       "height": 224,
       "width": 423
      }
     },
     "output_type": "display_data"
    }
   ],
   "source": [
    "# Hyperparameters for our network\n",
    "input_size = 784\n",
    "hidden_sizes = [128, 64]\n",
    "output_size = 10\n",
    "\n",
    "# Build a feed-forward network\n",
    "model = nn.Sequential(nn.Linear(input_size, hidden_sizes[0]),\n",
    "                      nn.ReLU(),\n",
    "                      nn.Linear(hidden_sizes[0], hidden_sizes[1]),\n",
    "                      nn.ReLU(),\n",
    "                      nn.Linear(hidden_sizes[1], output_size),\n",
    "                      nn.Softmax(dim=1))\n",
    "print(model)\n",
    "\n",
    "# Forward pass through the network and display output\n",
    "images, labels = next(iter(trainloader))\n",
    "images.resize_(images.shape[0], 1, 784)\n",
    "ps = model.forward(images[0,:])\n",
    "view_classify(images[0].view(1, 28, 28), ps)"
   ]
  },
  {
   "cell_type": "markdown",
   "metadata": {},
   "source": [
    "Here our model is the same as before: 784 input units, a hidden layer with 128 units, ReLU activation, 64 unit hidden layer, another ReLU, then the output layer with 10 units, and the softmax output.\n",
    "\n",
    "The operations are availble by passing in the appropriate index. For example, if you want to get first Linear operation and look at the weights, you'd use `model[0]`."
   ]
  },
  {
   "cell_type": "code",
   "execution_count": 26,
   "metadata": {},
   "outputs": [
    {
     "name": "stdout",
     "output_type": "stream",
     "text": [
      "Linear(in_features=784, out_features=128, bias=True)\n"
     ]
    },
    {
     "data": {
      "text/plain": [
       "Parameter containing:\n",
       "tensor([[-0.0263,  0.0277, -0.0270,  ..., -0.0032,  0.0014, -0.0031],\n",
       "        [-0.0073,  0.0067,  0.0295,  ..., -0.0271,  0.0183,  0.0336],\n",
       "        [-0.0355,  0.0199, -0.0100,  ...,  0.0254,  0.0280,  0.0322],\n",
       "        ...,\n",
       "        [-0.0055, -0.0192,  0.0082,  ...,  0.0237, -0.0004,  0.0266],\n",
       "        [ 0.0226, -0.0143,  0.0298,  ...,  0.0226,  0.0344, -0.0349],\n",
       "        [-0.0356, -0.0103, -0.0118,  ..., -0.0222,  0.0110,  0.0150]],\n",
       "       requires_grad=True)"
      ]
     },
     "execution_count": 26,
     "metadata": {},
     "output_type": "execute_result"
    }
   ],
   "source": [
    "print(model[0])\n",
    "model[0].weight"
   ]
  },
  {
   "cell_type": "markdown",
   "metadata": {},
   "source": [
    "You can also pass in an `OrderedDict` to name the individual layers and operations, instead of using incremental integers. Note that dictionary keys must be unique, so _each operation must have a different name_."
   ]
  },
  {
   "cell_type": "code",
   "execution_count": 27,
   "metadata": {},
   "outputs": [
    {
     "data": {
      "text/plain": [
       "Sequential(\n",
       "  (fc1): Linear(in_features=784, out_features=128, bias=True)\n",
       "  (relu1): ReLU()\n",
       "  (fc2): Linear(in_features=128, out_features=64, bias=True)\n",
       "  (relu2): ReLU()\n",
       "  (output): Linear(in_features=64, out_features=10, bias=True)\n",
       "  (softmax): Softmax()\n",
       ")"
      ]
     },
     "execution_count": 27,
     "metadata": {},
     "output_type": "execute_result"
    }
   ],
   "source": [
    "from collections import OrderedDict\n",
    "model = nn.Sequential(OrderedDict([\n",
    "                      ('fc1', nn.Linear(input_size, hidden_sizes[0])),\n",
    "                      ('relu1', nn.ReLU()),\n",
    "                      ('fc2', nn.Linear(hidden_sizes[0], hidden_sizes[1])),\n",
    "                      ('relu2', nn.ReLU()),\n",
    "                      ('output', nn.Linear(hidden_sizes[1], output_size)),\n",
    "                      ('softmax', nn.Softmax(dim=1))]))\n",
    "model"
   ]
  },
  {
   "cell_type": "markdown",
   "metadata": {},
   "source": [
    "Now you can access layers either by integer or the name"
   ]
  },
  {
   "cell_type": "code",
   "execution_count": 28,
   "metadata": {},
   "outputs": [
    {
     "name": "stdout",
     "output_type": "stream",
     "text": [
      "Linear(in_features=784, out_features=128, bias=True)\n",
      "Linear(in_features=784, out_features=128, bias=True)\n"
     ]
    }
   ],
   "source": [
    "print(model[0])\n",
    "print(model.fc1)"
   ]
  },
  {
   "cell_type": "markdown",
   "metadata": {},
   "source": [
    "In the next notebook, we'll see how we can train a neural network to accuractly predict the numbers appearing in the MNIST images."
   ]
  }
 ],
 "metadata": {
  "kernelspec": {
   "display_name": "Python [default]",
   "language": "python",
   "name": "python3"
  },
  "language_info": {
   "codemirror_mode": {
    "name": "ipython",
    "version": 3
   },
   "file_extension": ".py",
   "mimetype": "text/x-python",
   "name": "python",
   "nbconvert_exporter": "python",
   "pygments_lexer": "ipython3",
   "version": "3.6.4"
  }
 },
 "nbformat": 4,
 "nbformat_minor": 2
}
