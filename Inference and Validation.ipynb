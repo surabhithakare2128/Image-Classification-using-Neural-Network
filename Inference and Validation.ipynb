{
 "cells": [
  {
   "cell_type": "code",
   "execution_count": 5,
   "metadata": {},
   "outputs": [],
   "source": [
    "import torch\n",
    "from torchvision import datasets, transforms\n",
    "\n",
    "# Defining a transform to normalize the data\n",
    "transform = transforms.Compose([transforms.ToTensor(),\n",
    "                                transforms.Normalize((0.5, 0.5, 0.5), (0.5, 0.5, 0.5))])\n",
    "# Downloading and loading the training data\n",
    "trainset = datasets.FashionMNIST('~/.pytorch/F_MNIST_data/', download=True, train=True, transform=transform)\n",
    "trainloader = torch.utils.data.DataLoader(trainset, batch_size=64, shuffle=True)\n",
    "\n",
    "# Downloading and loading the test data\n",
    "testset = datasets.FashionMNIST('~/.pytorch/F_MNIST_data/', download=True, train=False, transform=transform)\n",
    "testloader = torch.utils.data.DataLoader(testset, batch_size=64, shuffle=True)"
   ]
  },
  {
   "cell_type": "code",
   "execution_count": 6,
   "metadata": {},
   "outputs": [],
   "source": [
    "from torch import nn, optim\n",
    "import torch.nn.functional as F\n",
    "\n",
    "class Classifier(nn.Module):\n",
    "    def __init__(self):\n",
    "        super().__init__()\n",
    "        self.fc1 = nn.Linear(784, 256)\n",
    "        self.fc2 = nn.Linear(256, 128)\n",
    "        self.fc3 = nn.Linear(128, 64)\n",
    "        self.fc4 = nn.Linear(64, 10)\n",
    "        \n",
    "    def forward(self, x):\n",
    "        x = x.view(x.shape[0], -1)\n",
    "        \n",
    "        x = F.relu(self.fc1(x))\n",
    "        x = F.relu(self.fc2(x))\n",
    "        x = F.relu(self.fc3(x))\n",
    "        x = F.log_softmax(self.fc4(x), dim=1)\n",
    "        \n",
    "        return x"
   ]
  },
  {
   "cell_type": "code",
   "execution_count": 7,
   "metadata": {},
   "outputs": [
    {
     "name": "stdout",
     "output_type": "stream",
     "text": [
      "torch.Size([64, 10])\n"
     ]
    }
   ],
   "source": [
    "model = Classifier()\n",
    "\n",
    "images, labels = next(iter(testloader))\n",
    "# Getting the class probabilities\n",
    "ps = torch.exp(model(images))\n",
    "print(ps.shape)"
   ]
  },
  {
   "cell_type": "code",
   "execution_count": 9,
   "metadata": {},
   "outputs": [
    {
     "name": "stdout",
     "output_type": "stream",
     "text": [
      "tensor([[1],\n",
      "        [1],\n",
      "        [1],\n",
      "        [1],\n",
      "        [1],\n",
      "        [1],\n",
      "        [1],\n",
      "        [1],\n",
      "        [1],\n",
      "        [1]])\n"
     ]
    }
   ],
   "source": [
    "top_p, top_class = ps.topk(1, dim=1)\n",
    "print(top_class[:10,:])"
   ]
  },
  {
   "cell_type": "code",
   "execution_count": 10,
   "metadata": {},
   "outputs": [],
   "source": [
    "equals = top_class == labels.view(*top_class.shape)"
   ]
  },
  {
   "cell_type": "code",
   "execution_count": 12,
   "metadata": {},
   "outputs": [
    {
     "name": "stdout",
     "output_type": "stream",
     "text": [
      "Accuracy: 7.8125%\n"
     ]
    }
   ],
   "source": [
    "accuracy = torch.mean(equals.type(torch.FloatTensor))\n",
    "print(f'Accuracy: {accuracy.item()*100}%')\n",
    "\n",
    "#accuracy is low as the network is untrained"
   ]
  },
  {
   "cell_type": "code",
   "execution_count": 13,
   "metadata": {},
   "outputs": [
    {
     "name": "stdout",
     "output_type": "stream",
     "text": [
      "Epoch: 1/30..  Training Loss: 0.518..  Test Loss: 0.421..  Test Accuracy: 0.848\n",
      "Epoch: 2/30..  Training Loss: 0.393..  Test Loss: 0.461..  Test Accuracy: 0.828\n",
      "Epoch: 3/30..  Training Loss: 0.358..  Test Loss: 0.415..  Test Accuracy: 0.853\n",
      "Epoch: 4/30..  Training Loss: 0.333..  Test Loss: 0.408..  Test Accuracy: 0.860\n",
      "Epoch: 5/30..  Training Loss: 0.320..  Test Loss: 0.400..  Test Accuracy: 0.865\n",
      "Epoch: 6/30..  Training Loss: 0.300..  Test Loss: 0.375..  Test Accuracy: 0.869\n",
      "Epoch: 7/30..  Training Loss: 0.288..  Test Loss: 0.391..  Test Accuracy: 0.870\n",
      "Epoch: 8/30..  Training Loss: 0.279..  Test Loss: 0.365..  Test Accuracy: 0.876\n",
      "Epoch: 9/30..  Training Loss: 0.275..  Test Loss: 0.375..  Test Accuracy: 0.878\n",
      "Epoch: 10/30..  Training Loss: 0.266..  Test Loss: 0.363..  Test Accuracy: 0.875\n",
      "Epoch: 11/30..  Training Loss: 0.258..  Test Loss: 0.357..  Test Accuracy: 0.877\n",
      "Epoch: 12/30..  Training Loss: 0.252..  Test Loss: 0.377..  Test Accuracy: 0.879\n",
      "Epoch: 13/30..  Training Loss: 0.245..  Test Loss: 0.375..  Test Accuracy: 0.881\n",
      "Epoch: 14/30..  Training Loss: 0.240..  Test Loss: 0.373..  Test Accuracy: 0.874\n",
      "Epoch: 15/30..  Training Loss: 0.236..  Test Loss: 0.363..  Test Accuracy: 0.880\n",
      "Epoch: 16/30..  Training Loss: 0.231..  Test Loss: 0.373..  Test Accuracy: 0.878\n",
      "Epoch: 17/30..  Training Loss: 0.224..  Test Loss: 0.371..  Test Accuracy: 0.880\n",
      "Epoch: 18/30..  Training Loss: 0.219..  Test Loss: 0.375..  Test Accuracy: 0.883\n",
      "Epoch: 19/30..  Training Loss: 0.217..  Test Loss: 0.387..  Test Accuracy: 0.881\n",
      "Epoch: 20/30..  Training Loss: 0.214..  Test Loss: 0.360..  Test Accuracy: 0.883\n",
      "Epoch: 21/30..  Training Loss: 0.211..  Test Loss: 0.393..  Test Accuracy: 0.876\n",
      "Epoch: 22/30..  Training Loss: 0.204..  Test Loss: 0.417..  Test Accuracy: 0.875\n",
      "Epoch: 23/30..  Training Loss: 0.205..  Test Loss: 0.384..  Test Accuracy: 0.887\n",
      "Epoch: 24/30..  Training Loss: 0.197..  Test Loss: 0.417..  Test Accuracy: 0.876\n",
      "Epoch: 25/30..  Training Loss: 0.198..  Test Loss: 0.407..  Test Accuracy: 0.880\n",
      "Epoch: 26/30..  Training Loss: 0.194..  Test Loss: 0.430..  Test Accuracy: 0.877\n",
      "Epoch: 27/30..  Training Loss: 0.190..  Test Loss: 0.408..  Test Accuracy: 0.882\n",
      "Epoch: 28/30..  Training Loss: 0.185..  Test Loss: 0.397..  Test Accuracy: 0.886\n",
      "Epoch: 29/30..  Training Loss: 0.182..  Test Loss: 0.416..  Test Accuracy: 0.878\n",
      "Epoch: 30/30..  Training Loss: 0.180..  Test Loss: 0.427..  Test Accuracy: 0.885\n"
     ]
    }
   ],
   "source": [
    "model = Classifier()\n",
    "criterion = nn.NLLLoss()\n",
    "optimizer = optim.Adam(model.parameters(), lr=0.003)\n",
    "\n",
    "epochs = 30\n",
    "steps = 0\n",
    "\n",
    "train_losses, test_losses = [], []\n",
    "for e in range(epochs):\n",
    "    running_loss = 0\n",
    "    for images, labels in trainloader:\n",
    "        \n",
    "        optimizer.zero_grad()\n",
    "        \n",
    "        log_ps = model(images)\n",
    "        loss = criterion(log_ps, labels)\n",
    "        loss.backward()\n",
    "        optimizer.step()\n",
    "        \n",
    "        running_loss += loss.item()\n",
    "        \n",
    "    else:\n",
    "        ## Implementing the validation pass and printing out the validation accuracy\n",
    "        test_loss = 0\n",
    "        accuracy = 0\n",
    "        \n",
    "        # Turning off gradients for validation, saves memory and computations\n",
    "        with torch.no_grad():\n",
    "            for images, labels in testloader:\n",
    "                log_ps = model(images)\n",
    "                test_loss += criterion(log_ps, labels)\n",
    "                \n",
    "                ps = torch.exp(log_ps)\n",
    "                top_p, top_class = ps.topk(1, dim=1)\n",
    "                equals = top_class == labels.view(*top_class.shape)\n",
    "                accuracy += torch.mean(equals.type(torch.FloatTensor))\n",
    "                \n",
    "        train_losses.append(running_loss/len(trainloader))\n",
    "        test_losses.append(test_loss/len(testloader))\n",
    "\n",
    "        print(\"Epoch: {}/{}.. \".format(e+1, epochs),\n",
    "              \"Training Loss: {:.3f}.. \".format(running_loss/len(trainloader)),\n",
    "              \"Test Loss: {:.3f}.. \".format(test_loss/len(testloader)),\n",
    "              \"Test Accuracy: {:.3f}\".format(accuracy/len(testloader)))"
   ]
  },
  {
   "cell_type": "code",
   "execution_count": 14,
   "metadata": {},
   "outputs": [],
   "source": [
    "%matplotlib inline\n",
    "%config InlineBackend.figure_format = 'retina'\n",
    "\n",
    "import matplotlib.pyplot as plt"
   ]
  },
  {
   "cell_type": "code",
   "execution_count": 15,
   "metadata": {},
   "outputs": [
    {
     "data": {
      "text/plain": [
       "<matplotlib.legend.Legend at 0x12502b6d8>"
      ]
     },
     "execution_count": 15,
     "metadata": {},
     "output_type": "execute_result"
    },
    {
     "data": {
      "image/png": "[encoded data removed]",
      "text/plain": [
       "<Figure size 432x288 with 1 Axes>"
      ]
     },
     "metadata": {
      "image/png": {
       "height": 250,
       "width": 380
      }
     },
     "output_type": "display_data"
    }
   ],
   "source": [
    "plt.plot(train_losses, label='Training loss')\n",
    "plt.plot(test_losses, label='Validation loss')\n",
    "plt.legend(frameon=False)"
   ]
  },
  {
   "cell_type": "markdown",
   "metadata": {},
   "source": [
    "## Above plot shows overfitting. To remove that we will use dropout"
   ]
  },
  {
   "cell_type": "code",
   "execution_count": 16,
   "metadata": {},
   "outputs": [],
   "source": [
    "## Defining model with dropout\n",
    "class Classifier(nn.Module):\n",
    "    def __init__(self):\n",
    "        super().__init__()\n",
    "        self.fc1 = nn.Linear(784, 256)\n",
    "        self.fc2 = nn.Linear(256, 128)\n",
    "        self.fc3 = nn.Linear(128, 64)\n",
    "        self.fc4 = nn.Linear(64, 10)\n",
    "\n",
    "        # Dropout module with 0.2 drop probability\n",
    "        self.dropout = nn.Dropout(p=0.2)\n",
    "\n",
    "    def forward(self, x):\n",
    "        x = x.view(x.shape[0], -1)\n",
    "\n",
    "        # Now with dropout\n",
    "        x = self.dropout(F.relu(self.fc1(x)))\n",
    "        x = self.dropout(F.relu(self.fc2(x)))\n",
    "        x = self.dropout(F.relu(self.fc3(x)))\n",
    "\n",
    "        # output so no dropout here\n",
    "        x = F.log_softmax(self.fc4(x), dim=1)\n",
    "\n",
    "        return x"
   ]
  },
  {
   "cell_type": "code",
   "execution_count": 17,
   "metadata": {},
   "outputs": [
    {
     "name": "stdout",
     "output_type": "stream",
     "text": [
      "Epoch: 1/30..  Training Loss: 0.618..  Test Loss: 0.452..  Test Accuracy: 0.838\n",
      "Epoch: 2/30..  Training Loss: 0.488..  Test Loss: 0.440..  Test Accuracy: 0.840\n",
      "Epoch: 3/30..  Training Loss: 0.453..  Test Loss: 0.415..  Test Accuracy: 0.856\n",
      "Epoch: 4/30..  Training Loss: 0.436..  Test Loss: 0.427..  Test Accuracy: 0.847\n",
      "Epoch: 5/30..  Training Loss: 0.424..  Test Loss: 0.408..  Test Accuracy: 0.851\n",
      "Epoch: 6/30..  Training Loss: 0.413..  Test Loss: 0.408..  Test Accuracy: 0.849\n",
      "Epoch: 7/30..  Training Loss: 0.410..  Test Loss: 0.401..  Test Accuracy: 0.851\n",
      "Epoch: 8/30..  Training Loss: 0.407..  Test Loss: 0.399..  Test Accuracy: 0.864\n",
      "Epoch: 9/30..  Training Loss: 0.398..  Test Loss: 0.395..  Test Accuracy: 0.864\n",
      "Epoch: 10/30..  Training Loss: 0.396..  Test Loss: 0.402..  Test Accuracy: 0.864\n",
      "Epoch: 11/30..  Training Loss: 0.388..  Test Loss: 0.397..  Test Accuracy: 0.864\n",
      "Epoch: 12/30..  Training Loss: 0.381..  Test Loss: 0.397..  Test Accuracy: 0.862\n",
      "Epoch: 13/30..  Training Loss: 0.384..  Test Loss: 0.404..  Test Accuracy: 0.861\n",
      "Epoch: 14/30..  Training Loss: 0.376..  Test Loss: 0.391..  Test Accuracy: 0.869\n",
      "Epoch: 15/30..  Training Loss: 0.372..  Test Loss: 0.391..  Test Accuracy: 0.867\n",
      "Epoch: 16/30..  Training Loss: 0.368..  Test Loss: 0.380..  Test Accuracy: 0.866\n",
      "Epoch: 17/30..  Training Loss: 0.371..  Test Loss: 0.427..  Test Accuracy: 0.856\n",
      "Epoch: 18/30..  Training Loss: 0.365..  Test Loss: 0.404..  Test Accuracy: 0.856\n",
      "Epoch: 19/30..  Training Loss: 0.361..  Test Loss: 0.391..  Test Accuracy: 0.865\n",
      "Epoch: 20/30..  Training Loss: 0.361..  Test Loss: 0.381..  Test Accuracy: 0.866\n",
      "Epoch: 21/30..  Training Loss: 0.358..  Test Loss: 0.381..  Test Accuracy: 0.869\n",
      "Epoch: 22/30..  Training Loss: 0.367..  Test Loss: 0.414..  Test Accuracy: 0.860\n",
      "Epoch: 23/30..  Training Loss: 0.359..  Test Loss: 0.377..  Test Accuracy: 0.868\n",
      "Epoch: 24/30..  Training Loss: 0.353..  Test Loss: 0.389..  Test Accuracy: 0.872\n",
      "Epoch: 25/30..  Training Loss: 0.352..  Test Loss: 0.374..  Test Accuracy: 0.870\n",
      "Epoch: 26/30..  Training Loss: 0.352..  Test Loss: 0.389..  Test Accuracy: 0.868\n",
      "Epoch: 27/30..  Training Loss: 0.347..  Test Loss: 0.375..  Test Accuracy: 0.873\n",
      "Epoch: 28/30..  Training Loss: 0.349..  Test Loss: 0.371..  Test Accuracy: 0.869\n",
      "Epoch: 29/30..  Training Loss: 0.340..  Test Loss: 0.377..  Test Accuracy: 0.873\n",
      "Epoch: 30/30..  Training Loss: 0.340..  Test Loss: 0.407..  Test Accuracy: 0.862\n"
     ]
    }
   ],
   "source": [
    "## Training model with dropout, and monitoring the training progress with the validation loss and accuracy\n",
    "model = Classifier()\n",
    "criterion = nn.NLLLoss()\n",
    "optimizer = optim.Adam(model.parameters(), lr=0.003)\n",
    "\n",
    "epochs = 30\n",
    "steps = 0\n",
    "\n",
    "train_losses, test_losses = [], []\n",
    "for e in range(epochs):\n",
    "    running_loss = 0\n",
    "    for images, labels in trainloader:\n",
    "        \n",
    "        optimizer.zero_grad()\n",
    "        \n",
    "        log_ps = model(images)\n",
    "        loss = criterion(log_ps, labels)\n",
    "        loss.backward()\n",
    "        optimizer.step()\n",
    "        \n",
    "        running_loss += loss.item()\n",
    "        \n",
    "    else:\n",
    "        test_loss = 0\n",
    "        accuracy = 0\n",
    "        \n",
    "        # Turn off gradients for validation, saves memory and computations\n",
    "        with torch.no_grad():\n",
    "            model.eval()\n",
    "            for images, labels in testloader:\n",
    "                log_ps = model(images)\n",
    "                test_loss += criterion(log_ps, labels)\n",
    "                \n",
    "                ps = torch.exp(log_ps)\n",
    "                top_p, top_class = ps.topk(1, dim=1)\n",
    "                equals = top_class == labels.view(*top_class.shape)\n",
    "                accuracy += torch.mean(equals.type(torch.FloatTensor))\n",
    "        \n",
    "        model.train()\n",
    "        \n",
    "        train_losses.append(running_loss/len(trainloader))\n",
    "        test_losses.append(test_loss/len(testloader))\n",
    "\n",
    "        print(\"Epoch: {}/{}.. \".format(e+1, epochs),\n",
    "              \"Training Loss: {:.3f}.. \".format(running_loss/len(trainloader)),\n",
    "              \"Test Loss: {:.3f}.. \".format(test_loss/len(testloader)),\n",
    "              \"Test Accuracy: {:.3f}\".format(accuracy/len(testloader)))"
   ]
  },
  {
   "cell_type": "code",
   "execution_count": 18,
   "metadata": {},
   "outputs": [
    {
     "data": {
      "image/png": "[encoded data removed]",
      "text/plain": [
       "<Figure size 432x648 with 2 Axes>"
      ]
     },
     "metadata": {
      "image/png": {
       "height": 204,
       "width": 423
      }
     },
     "output_type": "display_data"
    }
   ],
   "source": [
    "import helper\n",
    "\n",
    "# Testing network\n",
    "model.eval()\n",
    "\n",
    "dataiter = iter(testloader)\n",
    "images, labels = dataiter.next()\n",
    "img = images[0]\n",
    "\n",
    "# Converting 2D image to 1D vector\n",
    "img = img.view(1, 784)\n",
    "\n",
    "# Calculating the class probabilities (softmax) for img\n",
    "with torch.no_grad():\n",
    "    output = model.forward(img)\n",
    "\n",
    "ps = torch.exp(output)\n",
    "\n",
    "# Plotting the image and probabilities\n",
    "helper.view_classify(img.view(1, 28, 28), ps, version='Fashion')"
   ]
  },
  {
   "cell_type": "code",
   "execution_count": null,
   "metadata": {},
   "outputs": [],
   "source": []
  }
 ],
 "metadata": {
  "kernelspec": {
   "display_name": "Python [default]",
   "language": "python",
   "name": "python3"
  },
  "language_info": {
   "codemirror_mode": {
    "name": "ipython",
    "version": 3
   },
   "file_extension": ".py",
   "mimetype": "text/x-python",
   "name": "python",
   "nbconvert_exporter": "python",
   "pygments_lexer": "ipython3",
   "version": "3.6.4"
  }
 },
 "nbformat": 4,
 "nbformat_minor": 2
}
